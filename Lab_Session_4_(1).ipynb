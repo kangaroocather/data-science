{
  "cells": [
    {
      "cell_type": "markdown",
      "metadata": {
        "id": "view-in-github",
        "colab_type": "text"
      },
      "source": [
        "<a href=\"https://colab.research.google.com/github/kangaroocather/data-science/blob/main/Lab_Session_4_(1).ipynb\" target=\"_parent\"><img src=\"https://colab.research.google.com/assets/colab-badge.svg\" alt=\"Open In Colab\"/></a>"
      ]
    },
    {
      "cell_type": "markdown",
      "metadata": {
        "id": "IQFyW-jnEKlu"
      },
      "source": [
        "# Data Science - CMP020N205\n",
        "## Lab Session 4 -  Understanding Numpy Array and Pandas\n",
        "\n",
        "###  Representing Data in Python\n",
        "Machine Learning provides tools to extract knowledge from **data**. o build and deploy a machine learning solution, our data science computing environment needs to be able to represent our data and has to provide **methods** to manipulate and process that data. Specifically, our data science environment needs to be able to efficiently represent and process **datasets**, i.e. collections of items described by a set of attributes.\n",
        "\n",
        "In this lab, we will explore different options to represent data and datasets in Python. We will refer to them as data types. In addition to the basic built-in types, we will discuss data types defined by two third-party specialised libraries, namely **NumPy** and **Pandas**.\n",
        "\n",
        "In this lab, we have explored several options to represent data and datasets in Python, including:\n",
        "- Basic numeric, boolean and string types\n",
        "- Standard lists\n",
        "- Numpy arrays\n",
        "- Pandas Series and DataFrames\n",
        "\n",
        "In general, NumPy arrays will be our preferred choice to represent complex data on a grid (such as time series and pictures) and homogeneous datasets, where all the attributes are of the same type. Pandas dataframes will be useful to represent heterogeneous datasets, where different attributes can have different types. There are additional subtleties, which you will learn as you develop your machine learning skills.\n",
        "\n"
      ]
    },
    {
      "cell_type": "markdown",
      "metadata": {
        "id": "i8iw8JkWM2cI"
      },
      "source": [
        "## 1. Basic Data types: Numeric\n",
        "\n",
        "Let's start considering two Python **numeric** types, namely ```int``` (for integer numbers) and ```float``` (for real numbers).\n",
        "\n",
        "Numeric types can be used to represent measurements and other quantities, and support operations such as addition (```+```), subtraction (```-```), multiplication (```*```) and division (```/```), among others.\n",
        "\n",
        "Run the following cell to perform some simple calculation on numeric variables."
      ]
    },
    {
      "cell_type": "code",
      "execution_count": null,
      "metadata": {
        "colab": {
          "base_uri": "https://localhost:8080/"
        },
        "id": "KOUCLLg6TTLx",
        "outputId": "d3339762-c005-4a87-8013-f46eacae65cd"
      },
      "outputs": [
        {
          "data": {
            "text/plain": [
              "5"
            ]
          },
          "execution_count": 1,
          "metadata": {},
          "output_type": "execute_result"
        }
      ],
      "source": [
        "2+3"
      ]
    },
    {
      "cell_type": "code",
      "execution_count": null,
      "metadata": {
        "colab": {
          "base_uri": "https://localhost:8080/"
        },
        "id": "0Enu9MmJTTLy",
        "outputId": "38f18381-d09f-4b52-e568-dca0c75e4879"
      },
      "outputs": [
        {
          "data": {
            "text/plain": [
              "4"
            ]
          },
          "execution_count": 2,
          "metadata": {},
          "output_type": "execute_result"
        }
      ],
      "source": [
        "10-6"
      ]
    },
    {
      "cell_type": "code",
      "execution_count": null,
      "metadata": {
        "id": "TinTl0XDTTLy",
        "outputId": "6f3f9732-ae2b-4fcd-d3d9-98d17dfb809c"
      },
      "outputs": [
        {
          "data": {
            "text/plain": [
              "90"
            ]
          },
          "execution_count": 3,
          "metadata": {},
          "output_type": "execute_result"
        }
      ],
      "source": [
        "15*6"
      ]
    },
    {
      "cell_type": "code",
      "execution_count": null,
      "metadata": {
        "id": "4X5g_c4ITTLz",
        "outputId": "1f47d145-4886-4e2d-9201-930e5a0ab93d"
      },
      "outputs": [
        {
          "data": {
            "text/plain": [
              "20.0"
            ]
          },
          "execution_count": 4,
          "metadata": {},
          "output_type": "execute_result"
        }
      ],
      "source": [
        "240/12"
      ]
    },
    {
      "cell_type": "markdown",
      "metadata": {
        "id": "BFSH2pBeNGjG"
      },
      "source": [
        "## 2. Sequence types\n",
        "\n",
        "The string type is a Python sequence. Sequences are ordered collections and can be used to represent a **complex attribute** (such as text), an **item** described by several attributes or even a **whole dataset**. As we shall see later, there are other options that might be more suitable to represent complex attributes and whole datasets, however it is important to be familiar with sequences.\n",
        "\n",
        "In addition to strings, Python offers other sequence types. We will cover Python **lists** here. Lists are defined as elements separated by commas between square brackets and can **indexed** and **sliced**:\n",
        "- Indexing retrieves one element in a list. Given a list `s`, the `i`-th element can be retrived by typing `s[i]`. Note that the index of the first element in a list is 0.\n",
        "- Slicing returns a subset of elements from the list. Typing `s[i:j:k]` returns a list of elements starting from index `i` to `j` (excluding `j`) with step `k`.\n",
        "\n",
        "The following code cell illustrates indexing and slicing."
      ]
    },
    {
      "cell_type": "code",
      "execution_count": null,
      "metadata": {
        "id": "ldkn1MZ2TTLz",
        "outputId": "8dd6ebb2-cb25-48fa-e026-0511ff94595a"
      },
      "outputs": [
        {
          "name": "stdout",
          "output_type": "stream",
          "text": [
            "Original list: [10, 20, 30, 40, 50, 60]\n",
            "Element at index 0: 10\n",
            "Element at index -1: 60\n",
            "Slice from index 1 to 4: [20, 30, 40]\n",
            "Slice with step 2: [10, 30, 50]\n",
            "Reversed list: [60, 50, 40, 30, 20, 10]\n",
            "\n",
            "Original string: PythonProgramming\n",
            "Character at index 0: P\n",
            "Character at index -1: g\n",
            "Slice from index 0 to 6: Python\n",
            "Slice with step 2: PtoPormig\n",
            "Reversed string: gnimmargorPnohtyP\n",
            "\n",
            "Original tuple: (1, 2, 3, 4, 5, 6)\n",
            "Element at index 2: 3\n",
            "Element at index -3: 4\n",
            "Slice from index 2 to 5: (3, 4, 5)\n",
            "Slice with step 2: (1, 3, 5)\n",
            "Reversed tuple: (6, 5, 4, 3, 2, 1)\n"
          ]
        }
      ],
      "source": [
        "# Indexing and Slicing Examples\n",
        "\n",
        "# 1. Indexing and Slicing a List\n",
        "my_list = [10, 20, 30, 40, 50, 60]\n",
        "print(\"Original list:\", my_list)\n",
        "\n",
        "# Indexing\n",
        "print(\"Element at index 0:\", my_list[0])  # First element\n",
        "print(\"Element at index -1:\", my_list[-1])  # Last element\n",
        "\n",
        "# Slicing\n",
        "print(\"Slice from index 1 to 4:\", my_list[1:4])  # Elements from index 1 to 3\n",
        "print(\"Slice with step 2:\", my_list[::2])  # Every second element\n",
        "print(\"Reversed list:\", my_list[::-1])  # Reversing the list\n",
        "\n",
        "\n",
        "# 2. Indexing and Slicing a String\n",
        "my_string = \"PythonProgramming\"\n",
        "print(\"\\nOriginal string:\", my_string)\n",
        "\n",
        "# Indexing\n",
        "print(\"Character at index 0:\", my_string[0])  # First character\n",
        "print(\"Character at index -1:\", my_string[-1])  # Last character\n",
        "\n",
        "# Slicing\n",
        "print(\"Slice from index 0 to 6:\", my_string[0:6])  # 'Python'\n",
        "print(\"Slice with step 2:\", my_string[::2])  # Every second character\n",
        "print(\"Reversed string:\", my_string[::-1])  # Reversing the string\n",
        "\n",
        "\n",
        "# 3. Indexing and Slicing a Tuple\n",
        "my_tuple = (1, 2, 3, 4, 5, 6)\n",
        "print(\"\\nOriginal tuple:\", my_tuple)\n",
        "\n",
        "# Indexing\n",
        "print(\"Element at index 2:\", my_tuple[2])  # Third element\n",
        "print(\"Element at index -3:\", my_tuple[-3])  # Third-to-last element\n",
        "\n",
        "# Slicing\n",
        "print(\"Slice from index 2 to 5:\", my_tuple[2:5])  # Elements 3 to 5\n",
        "print(\"Slice with step 2:\", my_tuple[::2])  # Every second element\n",
        "print(\"Reversed tuple:\", my_tuple[::-1])  # Reversing the tuple"
      ]
    },
    {
      "cell_type": "markdown",
      "metadata": {
        "id": "OvsbT2X0N_F8"
      },
      "source": [
        "###  Numpy\n",
        "During Week-1 and Week-2 Labs you have used NumPy Library.\n",
        "\n",
        "NumPy is the fundamental Python library for numerical computing.\n",
        "\n",
        "The core of NumPy is the `ndarray`, a **multidimensional array** (grid of values) that comes with a set of efficiently implemented array operations. Each dimension in an `ndarray` is known as axis. A 1D NumPy array has one axis and represents a vector, a 2D NumPy array has two axis and represents a matrix, a 3D NumPy array represents a 3-tensor, etc.\n",
        "\n",
        "In order to use NumPy, we need to import it first."
      ]
    },
    {
      "cell_type": "markdown",
      "metadata": {
        "id": "B7CKNVv_Opeu"
      },
      "source": [
        "### Importing Library: Numpy"
      ]
    },
    {
      "cell_type": "code",
      "execution_count": null,
      "metadata": {
        "id": "DHLkIo7xEHcz"
      },
      "outputs": [],
      "source": [
        "import numpy as np"
      ]
    },
    {
      "cell_type": "markdown",
      "metadata": {
        "id": "8YyEf4cAPfMk"
      },
      "source": [
        "\n",
        "In contrast to standard Python lists, NumPy arrays have a **fixed size** at creation and their elements need to be of the **same type**. There are several ways to create NumPy arrays. The easiest one is to use the `array` function on a standard Python list. In the following example, we create a 1D NumPy array consisting of integer elements."
      ]
    },
    {
      "cell_type": "code",
      "execution_count": null,
      "metadata": {
        "colab": {
          "base_uri": "https://localhost:8080/"
        },
        "id": "3l2W0OFhPj_1",
        "outputId": "9f364884-cd32-45c2-d487-3cf068e8fa2d"
      },
      "outputs": [
        {
          "name": "stdout",
          "output_type": "stream",
          "text": [
            "The array 'my1Darray' is [ 1  2  4  9 16 25]\n",
            "The type of 'my1Darray' is <class 'numpy.ndarray'>\n",
            "The array 'my1Darray' consists of elements of type int64\n",
            "The array 'my1Darray' has 1 dimension\n",
            "The shape of 'my1Darray' is (6,)\n"
          ]
        }
      ],
      "source": [
        "my1Darray = np.array([1, 2, 4, 9, 16, 25])\n",
        "\n",
        "print(\"The array 'my1Darray' is\", my1Darray)\n",
        "print(\"The type of 'my1Darray' is\", type(my1Darray))\n",
        "print(\"The array 'my1Darray' consists of elements of type\", my1Darray.dtype)\n",
        "print(\"The array 'my1Darray' has\", my1Darray.ndim, \"dimension\")\n",
        "print(\"The shape of 'my1Darray' is\", my1Darray.shape)"
      ]
    },
    {
      "cell_type": "markdown",
      "metadata": {
        "id": "eaORX4oALqec"
      },
      "source": [
        "### Question 1\n",
        "Here, some elements of array are given: [2.2, 50.5,3.44, 9.6, 7.5, 21.2] <br>\n",
        "a)Show the type of the array<br>\n",
        "b)Show the data types of the elements present in the array<br>\n",
        "c)Show the shape of the array<br>\n",
        "d)print the array.<br>"
      ]
    },
    {
      "cell_type": "code",
      "execution_count": null,
      "metadata": {
        "colab": {
          "background_save": true,
          "base_uri": "https://localhost:8080/"
        },
        "id": "BujBk9JI9Q3C",
        "outputId": "51053268-b97a-40e7-dcdc-13f79969f938"
      },
      "outputs": [
        {
          "name": "stdout",
          "output_type": "stream",
          "text": [
            "the array 'myarray'is [ 2.2  50.5   3.44  9.6   7.5  21.2 ]\n",
            "the type of'myarray'is <class 'numpy.ndarray'>\n",
            "the shape of 'myarray' is (6,)\n"
          ]
        }
      ],
      "source": [
        "myarray=np.array([2.2, 50.5,3.44 ,9.6,7.5,21.2])\n",
        "print(\"the array 'myarray'is\",myarray)\n",
        "print(\"the type of'myarray'is\",type(myarray))\n",
        "print(\"the shape of 'myarray' is\",myarray.shape)"
      ]
    },
    {
      "cell_type": "markdown",
      "metadata": {
        "id": "b8GTRAiqQiss"
      },
      "source": [
        "There are many other useful functions that can be used to create NumPy arrays with different kinds of values, for instance:"
      ]
    },
    {
      "cell_type": "code",
      "execution_count": null,
      "metadata": {
        "id": "QUnk-xIZQqjC",
        "outputId": "718d8f1b-b0b9-4b45-a698-68cb91cb95fe"
      },
      "outputs": [
        {
          "name": "stdout",
          "output_type": "stream",
          "text": [
            "'a' is \n",
            " [0.  0.1 0.2 0.3 0.4 0.5 0.6 0.7 0.8 0.9 1. ] \n",
            " and its shape is (11,) \n",
            "\n",
            "'b' is \n",
            " [ 0.   2.5  5.   7.5 10.  12.5 15.  17.5] \n",
            " and its shape is (8,) \n",
            "\n",
            "'c' is \n",
            " [0. 0. 0. 0. 0.] \n",
            " and its shape is (5,) \n",
            "\n",
            "'M' is \n",
            " [[0. 0. 0. 0. 0.]\n",
            " [0. 0. 0. 0. 0.]] \n",
            " and its shape is (2, 5) \n",
            "\n",
            "'w' is \n",
            " [1. 1. 1. 1. 1. 1. 1.] \n",
            " and its shape is (7,) \n",
            "\n",
            "'N' is \n",
            " [[1. 1.]\n",
            " [1. 1.]\n",
            " [1. 1.]] \n",
            " and its shape is (3, 2) \n",
            "\n",
            "'I' is \n",
            " [[1. 0. 0. 0.]\n",
            " [0. 1. 0. 0.]\n",
            " [0. 0. 1. 0.]\n",
            " [0. 0. 0. 1.]] \n",
            " and its shape is (4, 4) \n",
            "\n",
            "'R' is \n",
            " [[0.1699973  0.26082881 0.13791904 0.25019923]\n",
            " [0.58687171 0.37814328 0.21849326 0.38817837]] \n",
            " and its shape is (2, 4) \n",
            "\n"
          ]
        }
      ],
      "source": [
        "a = np.linspace(0,1,11) # Array consisting 11 elements uniformly spaced, from 0 to 1\n",
        "print(\"'a' is \\n\", a, \"\\n and its shape is\", a.shape, \"\\n\")\n",
        "b = np.arange(0,20,2.5) # Array consisting of elements spaced by 2.5, from 0 to 20\n",
        "print(\"'b' is \\n\", b, \"\\n and its shape is\", b.shape, \"\\n\")\n",
        "c = np.zeros(5) # 1D Array consisting of 5 zeros\n",
        "print(\"'c' is \\n\", c, \"\\n and its shape is\", c.shape, \"\\n\")\n",
        "M = np.zeros((2,5)) # 2x5 (2 rows, 5 columns) array consisting of zeros\n",
        "print(\"'M' is \\n\", M, \"\\n and its shape is\", M.shape, \"\\n\")\n",
        "w = np.ones(7) # 1D array consisting of 7 ones\n",
        "print(\"'w' is \\n\", w, \"\\n and its shape is\", w.shape, \"\\n\")\n",
        "N = np.ones((3,2)) # 3x2 (3 rows, 2 columns) array consisting of ones\n",
        "print(\"'N' is \\n\", N, \"\\n and its shape is\", N.shape, \"\\n\")\n",
        "I = np.eye(4) # 4x4 array with ones on the diagonal and zeros elsewhere\n",
        "print(\"'I' is \\n\", I, \"\\n and its shape is\", I.shape, \"\\n\")\n",
        "R = np.random.rand(2,4) # 2x4 array of random values from a uniform distribution\n",
        "print(\"'R' is \\n\", R, \"\\n and its shape is\", R.shape, \"\\n\")"
      ]
    },
    {
      "cell_type": "markdown",
      "metadata": {
        "id": "pBXn1IINOJbL"
      },
      "source": [
        "### Question 2\n",
        "a)Print an array consisting of 20 element from 1 to 20 with uniform/equal linespace. <br>\n",
        "b)Print and array with 5 rows and 10 columns that contains all element as 1\n",
        "<br>\n",
        "c)Print a 10X10 array with all zeroes and diagonal ones.\n",
        "<br>\n",
        "d) Print a random 4X4 array.\n",
        "<br>\n",
        "e) Print an array with space 5 from 0 to 100 elements"
      ]
    },
    {
      "cell_type": "code",
      "execution_count": 11,
      "metadata": {
        "id": "iGqRGpn-9S4I",
        "colab": {
          "base_uri": "https://localhost:8080/"
        },
        "outputId": "04e75481-c16e-4754-fd4e-140d803fa6fc"
      },
      "outputs": [
        {
          "output_type": "stream",
          "name": "stdout",
          "text": [
            "'a' is \n",
            " [ 1.  2.  3.  4.  5.  6.  7.  8.  9. 10. 11. 12. 13. 14. 15. 16. 17. 18.\n",
            " 19. 20.] \n",
            " and its shape is (20,) \n",
            "\n",
            "'N' is \n",
            " [[1. 1. 1. 1. 1. 1. 1. 1. 1. 1.]\n",
            " [1. 1. 1. 1. 1. 1. 1. 1. 1. 1.]\n",
            " [1. 1. 1. 1. 1. 1. 1. 1. 1. 1.]\n",
            " [1. 1. 1. 1. 1. 1. 1. 1. 1. 1.]\n",
            " [1. 1. 1. 1. 1. 1. 1. 1. 1. 1.]] \n",
            " and its shape is (5, 10) \n",
            "\n",
            "'I' is \n",
            " [[1. 0. 0. 0.]\n",
            " [0. 1. 0. 0.]\n",
            " [0. 0. 1. 0.]\n",
            " [0. 0. 0. 1.]] \n",
            " and its shape is (4, 4) \n",
            "\n",
            "'b' is \n",
            " [ 0  1  2  3  4  5  6  7  8  9 10 11 12 13 14 15 16 17 18 19 20 21 22 23\n",
            " 24 25 26 27 28 29 30 31 32 33 34 35 36 37 38 39 40 41 42 43 44 45 46 47\n",
            " 48 49 50 51 52 53 54 55 56 57 58 59 60 61 62 63 64 65 66 67 68 69 70 71\n",
            " 72 73 74 75 76 77 78 79 80 81 82 83 84 85 86 87 88 89 90 91 92 93 94 95\n",
            " 96 97 98 99] \n",
            " and its shape is (100,) \n",
            "\n"
          ]
        }
      ],
      "source": [
        "a = np.linspace(1,20,20) # Array consisting 11 elements uniformly spaced, from 1 to 20\n",
        "print(\"'a' is \\n\", a, \"\\n and its shape is\", a.shape, \"\\n\")\n",
        "N = np.ones((5,10)) # 5x10 (5 rows, 10 columns) array consisting of ones\n",
        "print(\"'N' is \\n\", N, \"\\n and its shape is\", N.shape, \"\\n\")\n",
        "I = np.eye(4) # 4x4 array with ones on the diagonal and zeros elsewhere\n",
        "print(\"'I' is \\n\", I, \"\\n and its shape is\", I.shape, \"\\n\")\n",
        "b = np.arange(0,100) # Array consisting of elements spaced by 2.5, from 0 to 20\n",
        "print(\"'b' is \\n\", b, \"\\n and its shape is\", b.shape, \"\\n\")"
      ]
    },
    {
      "cell_type": "markdown",
      "metadata": {
        "id": "qZBClWpPQtGT"
      },
      "source": [
        "NumPy arrays can be indexed and sliced just like standard Python lists. Let's create a 2D 4x4 array and explore indexing and slicing:"
      ]
    },
    {
      "cell_type": "code",
      "execution_count": 16,
      "metadata": {
        "id": "pTn5NEm4Q4FJ",
        "outputId": "d1af40b2-c845-4241-b2a0-4177f243d2fb",
        "colab": {
          "base_uri": "https://localhost:8080/"
        }
      },
      "outputs": [
        {
          "output_type": "stream",
          "name": "stdout",
          "text": [
            "The NumPy array M is:\n",
            " [[ 1  2  3  4]\n",
            " [ 5  6  7  8]\n",
            " [ 9 10 11 12]\n",
            " [13 14 15 16]]\n",
            "\n",
            "The second row of M is:\n",
            " [5 6 7 8]\n",
            "\n",
            "The entry at the first row third column is:\n",
            " 3\n",
            "\n",
            "This is a subarray of M:\n",
            " [[ 6  7]\n",
            " [10 11]]\n",
            "\n",
            "The first two rows of M are:\n",
            " [[1 2 3 4]\n",
            " [5 6 7 8]]\n"
          ]
        }
      ],
      "source": [
        "M = np.array([[1, 2, 3, 4], [5, 6, 7, 8], [9, 10, 11, 12], [13, 14, 15, 16]])\n",
        "print(\"The NumPy array M is:\\n\", M)\n",
        "print(\"\\nThe second row of M is:\\n\", M[1])\n",
        "print(\"\\nThe entry at the first row third column is:\\n\", M[0,2])\n",
        "print(\"\\nThis is a subarray of M:\\n\", M[1:3,1:3])\n",
        "print(\"\\nThe first two rows of M are:\\n\", M[0:2,:])"
      ]
    },
    {
      "cell_type": "markdown",
      "metadata": {
        "id": "mznCZlbsWWoG"
      },
      "source": [
        "### Question 3\n",
        "Here, a 4X2 array given that is: ([[21, 31], [35, 45], [10, 20], [90, 100]]).<br>\n",
        "a) Priint the array\n",
        "<br>\n",
        "b) Print the third row of the array\n",
        "<br>\n",
        "c) Print the first row of the array\n",
        "<br>\n",
        "d) Print the second row and second column element\n",
        "<br>\n",
        "e) Print the last row of the array\n",
        "<br>\n",
        "f) Print the last element in the array"
      ]
    },
    {
      "cell_type": "code",
      "execution_count": 24,
      "metadata": {
        "id": "L3RxtVQt9Uzr",
        "colab": {
          "base_uri": "https://localhost:8080/"
        },
        "outputId": "b18a6fd1-1f32-4126-a351-6755f847b6de"
      },
      "outputs": [
        {
          "output_type": "stream",
          "name": "stdout",
          "text": [
            "The NumPy array M is:\n",
            " [1 2 3 4]\n",
            "\n",
            "The third row of M is:\n",
            " [5 6 7 8]\n",
            "\n",
            "The second row of M is:\n",
            " [5 6 7 8]\n",
            "\n",
            "The entry at the second row second column is:\n",
            " 11\n",
            "\n",
            "The last element in the array :\n",
            " [[1 2 3 4]\n",
            " [5 6 7 8]]\n",
            "\n",
            "The last row in the array :\n",
            " [13 14 15 16]\n"
          ]
        }
      ],
      "source": [
        "m=np.array([[21, 31], [35, 45], [10, 20], [90, 100]])\n",
        "print(\"The NumPy array M is:\\n\", M[0])\n",
        "print(\"\\nThe third row of M is:\\n\", M[1])\n",
        "print(\"\\nThe second row of M is:\\n\", M[1])\n",
        "print(\"\\nThe entry at the second row second column is:\\n\", M[2,2])\n",
        "print(\"\\nThe last element in the array :\\n\", M[0:2,:])\n",
        "print(\"\\nThe last row in the array :\\n\", M[3])\n",
        "\n"
      ]
    },
    {
      "cell_type": "markdown",
      "metadata": {
        "id": "RLbbSNxrUQEL"
      },
      "source": [
        "Numpy arrays can also be saved to and created from a file. The standard file format for storing NumPy arrays on disk is `.npy`, although other formats such as CSV can be used too.\n",
        "\n",
        "We will now explore how to use NumPy to represent complex datasets. After uploading the file `myDigitsDataset.npy` to your runtime, run the cell below to load the dataset into a NumPy array and read some basic info about it."
      ]
    },
    {
      "cell_type": "code",
      "execution_count": 32,
      "metadata": {
        "id": "RaCq9AVXURob",
        "outputId": "cd83fd02-d574-4039-b947-85c6944a48ef",
        "colab": {
          "base_uri": "https://localhost:8080/"
        }
      },
      "outputs": [
        {
          "output_type": "stream",
          "name": "stdout",
          "text": [
            "The type of 'myDigits' is <class 'numpy.ndarray'>\n",
            "The array 'myDigits' consists of elements of type int64\n",
            "The array 'myDigits' has 3 dimensions\n",
            "The shape of 'myDigits' is (10, 28, 28)\n"
          ]
        }
      ],
      "source": [
        "myDigits = np.load('myDigitsDataset.npy')\n",
        "print(\"The type of 'myDigits' is\", type(myDigits))\n",
        "print(\"The array 'myDigits' consists of elements of type\", myDigits.dtype)\n",
        "print(\"The array 'myDigits' has\", myDigits.ndim, \"dimensions\")\n",
        "print(\"The shape of 'myDigits' is\", myDigits.shape)"
      ]
    },
    {
      "cell_type": "markdown",
      "metadata": {
        "id": "BWAefyUmXRT8"
      },
      "source": [
        "The `myDigits` NumPy array is an example of a 3-tensor, which essentially, is a 3D array. It consists of 10 complex items described by 28x28 attributes. You can see it as 10 different 28x28 2D arrays stacked together. Let's print the third (index 2) item:"
      ]
    },
    {
      "cell_type": "code",
      "execution_count": 37,
      "metadata": {
        "id": "8s8Dx_taXShw",
        "outputId": "1daa1918-3427-4704-8abd-cd8bc954f292",
        "colab": {
          "base_uri": "https://localhost:8080/"
        }
      },
      "outputs": [
        {
          "output_type": "stream",
          "name": "stdout",
          "text": [
            "The shape of my 10th item is: (28, 28)\n",
            "\n",
            "My 10th item is:\n",
            " [[7 7 7 7 7 7 7 7 7 7 7 7 7 7 7 7 7 7 7 7 7 7 7 7 7 7 7 7]\n",
            " [7 7 7 7 7 7 7 7 7 7 7 7 7 7 7 7 7 7 7 7 7 7 7 7 7 7 7 7]\n",
            " [7 7 7 7 7 7 7 7 7 7 7 7 7 7 7 7 7 7 7 7 7 7 7 7 7 7 7 7]\n",
            " [7 7 7 7 7 7 7 7 7 7 7 7 7 7 7 7 7 7 7 7 7 7 7 7 7 7 7 7]\n",
            " [7 7 7 7 7 7 7 7 7 7 7 7 7 7 7 7 7 7 7 7 7 7 7 7 7 7 7 7]\n",
            " [7 7 7 7 7 7 7 7 7 7 7 7 7 7 7 7 7 7 7 7 0 0 0 7 7 7 7 7]\n",
            " [7 7 7 7 0 0 7 7 7 7 7 7 7 7 7 7 7 7 7 7 0 0 0 7 7 7 7 7]\n",
            " [7 7 7 7 0 0 7 7 7 7 7 7 7 7 7 7 7 7 7 0 0 0 0 7 7 7 7 7]\n",
            " [7 7 7 7 0 0 7 7 7 7 7 7 7 7 7 7 7 7 7 0 0 0 7 7 7 7 7 7]\n",
            " [7 7 7 7 0 0 7 7 7 7 7 7 7 7 7 7 7 7 7 0 0 0 7 7 7 7 7 7]\n",
            " [7 7 7 0 0 0 7 7 7 7 7 7 7 7 7 7 7 7 7 0 0 0 7 7 7 7 7 7]\n",
            " [7 7 7 0 0 0 7 7 7 7 7 7 7 7 7 7 7 7 0 0 0 0 7 7 7 7 7 7]\n",
            " [7 7 7 0 0 0 7 7 7 7 7 7 7 7 7 7 7 7 0 0 0 0 7 7 7 7 7 7]\n",
            " [7 7 7 0 0 0 7 7 7 7 7 7 7 7 7 0 0 0 0 0 0 7 7 7 7 7 7 7]\n",
            " [7 7 7 0 0 0 7 7 7 0 0 0 0 0 0 0 0 0 0 0 0 7 7 7 7 7 7 7]\n",
            " [7 7 7 0 0 0 0 0 0 0 0 0 0 0 0 0 0 0 0 0 7 7 7 7 7 7 7 7]\n",
            " [7 7 7 7 0 0 0 0 0 0 0 0 7 7 7 7 7 0 0 0 7 7 7 7 7 7 7 7]\n",
            " [7 7 7 7 7 7 7 7 7 7 7 7 7 7 7 7 7 0 0 0 7 7 7 7 7 7 7 7]\n",
            " [7 7 7 7 7 7 7 7 7 7 7 7 7 7 7 7 7 0 0 0 7 7 7 7 7 7 7 7]\n",
            " [7 7 7 7 7 7 7 7 7 7 7 7 7 7 7 7 7 0 0 0 7 7 7 7 7 7 7 7]\n",
            " [7 7 7 7 7 7 7 7 7 7 7 7 7 7 7 7 7 0 0 0 7 7 7 7 7 7 7 7]\n",
            " [7 7 7 7 7 7 7 7 7 7 7 7 7 7 7 7 7 0 0 0 7 7 7 7 7 7 7 7]\n",
            " [7 7 7 7 7 7 7 7 7 7 7 7 7 7 7 7 7 0 0 0 7 7 7 7 7 7 7 7]\n",
            " [7 7 7 7 7 7 7 7 7 7 7 7 7 7 7 7 7 0 0 0 7 7 7 7 7 7 7 7]\n",
            " [7 7 7 7 7 7 7 7 7 7 7 7 7 7 7 7 7 0 0 0 7 7 7 7 7 7 7 7]\n",
            " [7 7 7 7 7 7 7 7 7 7 7 7 7 7 7 7 7 7 7 7 7 7 7 7 7 7 7 7]\n",
            " [7 7 7 7 7 7 7 7 7 7 7 7 7 7 7 7 7 7 7 7 7 7 7 7 7 7 7 7]\n",
            " [7 7 7 7 7 7 7 7 7 7 7 7 7 7 7 7 7 7 7 7 7 7 7 7 7 7 7 7]]\n"
          ]
        }
      ],
      "source": [
        "myThirdDigit = myDigits[2,:,:]\n",
        "print(\"The shape of my 10th item is:\", myThirdDigit.shape)\n",
        "print(\"\\nMy 10th item is:\\n\", myThirdDigit)"
      ]
    },
    {
      "cell_type": "markdown",
      "metadata": {
        "id": "dytz1G8rXcaZ"
      },
      "source": [
        "Do you see anything? Does it look like the number 4? Let's use the visualisation library matplotlib to plot the array:"
      ]
    },
    {
      "cell_type": "code",
      "execution_count": 34,
      "metadata": {
        "id": "2QehOZ0xXf0-",
        "outputId": "b88b45a9-939d-4c27-fe28-671fea1186c1",
        "colab": {
          "base_uri": "https://localhost:8080/",
          "height": 430
        }
      },
      "outputs": [
        {
          "output_type": "display_data",
          "data": {
            "text/plain": [
              "<Figure size 640x480 with 1 Axes>"
            ],
            "image/png": "[encoded data removed]"
          },
          "metadata": {}
        }
      ],
      "source": [
        "import matplotlib.pyplot as plt\n",
        "plt.imshow(myThirdDigit)\n",
        "plt.show()"
      ]
    },
    {
      "cell_type": "markdown",
      "metadata": {
        "id": "LG7Bnlz5YW0r"
      },
      "source": [
        "It is indeed a picture representing the digit \"4\". Our small dataset is based on the well-known [MNIST](http://yann.lecun.com/exdb/mnist/) dataset, which consists of 70,000 gray scale 28x28 images of handwritten digits. Instead of gray scale images, where each entry (pixel) can take any value within a continuous range (for instance 0 and 1), we have pictures where pixels can take up only two values, namely 0 and 7. There is nothing special about these two values, what is relevant is that the pattern displayed depends on which pixels take which value.\n",
        "\n",
        "Pictures are an example of grid data, i.e. complex data consisting of multiple values associated to a grid. Audio clips are also examples of grid data, where the grid is 1D (the time axis)."
      ]
    },
    {
      "cell_type": "markdown",
      "metadata": {
        "id": "xCuZWVVAYbAR"
      },
      "source": [
        "### Question  4\n",
        "Print the 10th element from the myDigits 3-tensor and also plot this using matplotlib."
      ]
    },
    {
      "cell_type": "code",
      "execution_count": 36,
      "metadata": {
        "id": "mRTMQnJn9e6z",
        "colab": {
          "base_uri": "https://localhost:8080/"
        },
        "outputId": "85a0304f-2367-48d8-a709-ec45b7f98f24"
      },
      "outputs": [
        {
          "output_type": "stream",
          "name": "stdout",
          "text": [
            "The shape of my 3rd item is: (28, 28)\n",
            "\n",
            "My 3rd item is:\n",
            " [[7 7 7 7 7 7 7 7 7 7 7 7 7 7 7 7 7 7 7 7 7 7 7 7 7 7 7 7]\n",
            " [7 7 7 7 7 7 7 7 7 7 7 7 7 7 7 7 7 7 7 7 7 7 7 7 7 7 7 7]\n",
            " [7 7 7 7 7 7 7 7 7 7 7 7 7 7 7 7 7 7 7 7 7 7 7 7 7 7 7 7]\n",
            " [7 7 7 7 7 7 7 7 7 7 7 7 7 7 7 7 7 7 7 7 7 7 7 7 7 7 7 7]\n",
            " [7 7 7 7 7 7 7 7 7 7 7 7 7 7 7 7 7 7 7 7 7 7 0 0 7 7 7 7]\n",
            " [7 7 7 7 7 7 7 7 7 7 7 7 7 7 7 7 7 7 7 7 7 0 0 0 7 7 7 7]\n",
            " [7 7 7 7 7 7 7 7 7 7 7 7 7 7 7 7 7 7 7 7 0 0 0 0 7 7 7 7]\n",
            " [7 7 7 7 7 7 7 7 7 7 7 7 7 7 7 7 7 7 7 7 0 0 0 7 7 7 7 7]\n",
            " [7 7 7 7 7 7 7 7 7 7 7 7 0 0 0 7 7 7 7 0 0 0 0 7 7 7 7 7]\n",
            " [7 7 7 7 7 7 7 7 7 7 7 7 0 0 0 7 7 7 7 0 0 0 7 7 7 7 7 7]\n",
            " [7 7 7 7 7 7 7 7 7 7 7 7 0 0 0 7 7 7 0 0 0 0 7 7 7 7 7 7]\n",
            " [7 7 7 7 7 7 7 7 7 7 7 0 0 0 0 7 7 0 0 0 0 0 7 7 7 7 7 7]\n",
            " [7 7 7 7 7 7 7 7 7 7 0 0 0 0 7 7 7 0 0 0 7 7 7 7 7 7 7 7]\n",
            " [7 7 7 7 7 7 7 7 7 0 0 0 0 7 7 7 0 0 0 0 7 7 7 7 7 7 7 7]\n",
            " [7 7 7 7 7 7 7 0 0 0 0 0 0 0 0 0 0 0 0 7 7 7 7 7 7 7 7 7]\n",
            " [7 7 7 7 7 7 7 0 0 0 0 0 0 0 0 0 0 0 7 7 7 7 7 7 7 7 7 7]\n",
            " [7 7 7 7 7 7 0 0 0 0 0 0 0 0 0 0 0 0 0 0 7 7 7 7 7 7 7 7]\n",
            " [7 7 7 7 7 7 0 0 0 7 7 7 0 0 0 0 0 0 0 7 7 7 7 7 7 7 7 7]\n",
            " [7 7 7 7 7 7 0 0 7 7 7 7 0 0 0 0 0 0 0 7 7 7 7 7 7 7 7 7]\n",
            " [7 7 7 7 7 7 7 7 7 7 7 0 0 0 0 7 7 7 7 7 7 7 7 7 7 7 7 7]\n",
            " [7 7 7 7 7 7 7 7 7 7 7 0 0 0 0 7 7 7 7 7 7 7 7 7 7 7 7 7]\n",
            " [7 7 7 7 7 7 7 7 7 7 0 0 0 0 7 7 7 7 7 7 7 7 7 7 7 7 7 7]\n",
            " [7 7 7 7 7 7 7 7 7 7 0 0 0 7 7 7 7 7 7 7 7 7 7 7 7 7 7 7]\n",
            " [7 7 7 7 7 7 7 7 7 7 0 0 0 7 7 7 7 7 7 7 7 7 7 7 7 7 7 7]\n",
            " [7 7 7 7 7 7 7 7 7 7 7 7 7 7 7 7 7 7 7 7 7 7 7 7 7 7 7 7]\n",
            " [7 7 7 7 7 7 7 7 7 7 7 7 7 7 7 7 7 7 7 7 7 7 7 7 7 7 7 7]\n",
            " [7 7 7 7 7 7 7 7 7 7 7 7 7 7 7 7 7 7 7 7 7 7 7 7 7 7 7 7]\n",
            " [7 7 7 7 7 7 7 7 7 7 7 7 7 7 7 7 7 7 7 7 7 7 7 7 7 7 7 7]]\n"
          ]
        }
      ],
      "source": [
        "myThirdDigit = myDigits[9,:,:]\n",
        "print(\"The shape of my 3rd item is:\", myThirdDigit.shape)\n",
        "print(\"\\nMy 3rd item is:\\n\", myThirdDigit)"
      ]
    },
    {
      "cell_type": "markdown",
      "metadata": {
        "id": "GWPNPLdkZ-Vy"
      },
      "source": [
        "## 3. Pandas\n",
        "\n",
        "Pandas is a specialised library that provides data structures to represent sequences (known as **Series**) and tables (known as **DataFrames**). You can think of a Pandas DataFrame as a 2D table where each column is a 1D Pandas Series. In fact, when you extract one single column from a DataFrame, the data type that you obtain is a Series.\n",
        "\n",
        "In contrast to NumPy arrays, which are homogeneous (i.e. all the elements in the array must be of the same type), Pandas tabular structures support heterogenous columns (i.e. only the elements within a column are required to be of the same type).\n",
        "\n",
        "Before using pandas we need to import it."
      ]
    },
    {
      "cell_type": "code",
      "execution_count": 35,
      "metadata": {
        "id": "AnMV6VOiaR8n"
      },
      "outputs": [],
      "source": [
        "import pandas as pd"
      ]
    },
    {
      "cell_type": "markdown",
      "metadata": {
        "id": "HRGpflH00GA8"
      },
      "source": [
        "There are several ways to create Pandas Series and DataFrames, for instance by passing a standard Python list or a NumPy array, as shown in the following examples:"
      ]
    },
    {
      "cell_type": "code",
      "execution_count": null,
      "metadata": {
        "id": "hDWHeJvV0N9m",
        "outputId": "77147356-ecfe-49c9-d4c2-2d579374a02d"
      },
      "outputs": [
        {
          "name": "stdout",
          "output_type": "stream",
          "text": [
            "The Series s is:\n",
            " 0     1\n",
            "1     2\n",
            "2     4\n",
            "3     9\n",
            "4    16\n",
            "5    25\n",
            "dtype: int64\n",
            "\n",
            "The DataFrame df is:\n",
            "           0         1         2         3         4         5         6  \\\n",
            "0 -1.470101  0.016500 -0.144187  0.359843  0.256593  1.382140 -0.211486   \n",
            "1 -1.458659 -0.162365  1.418203 -0.764819 -0.739308 -1.509836  0.729763   \n",
            "2 -0.304762  1.698833 -0.428939  0.186119 -0.083473 -0.073605  1.185396   \n",
            "3 -0.449538  0.652578 -1.084571 -1.572516  0.758097  1.372217  2.518212   \n",
            "4 -0.550884  1.029252 -1.963917  0.918104 -1.231701 -0.240358  0.335995   \n",
            "5 -0.003071 -0.259465  0.661619  0.779947  0.655523  1.053462  0.734523   \n",
            "6  0.881562 -1.167185 -0.084847 -2.460371 -0.264086  0.947078  0.320576   \n",
            "7 -0.093890 -0.897229 -0.493161  1.733410  0.385316  0.289159 -1.692280   \n",
            "8  0.476796  0.022654  0.082981 -0.688734 -0.960093  1.145689 -1.540674   \n",
            "9  0.857003 -2.163584  0.256594  1.968011 -0.530255  1.478781 -0.535728   \n",
            "\n",
            "          7         8         9  \n",
            "0  0.124245 -0.555773 -0.553414  \n",
            "1 -2.014539  0.864658 -0.400014  \n",
            "2  0.769000 -1.550379 -0.566566  \n",
            "3 -0.223526  0.436737 -0.797384  \n",
            "4 -0.569264  0.180989 -0.158592  \n",
            "5  0.155394 -0.274533  0.407369  \n",
            "6  0.058240  0.305551  0.314661  \n",
            "7 -0.880663  0.555542  0.473996  \n",
            "8  1.222625  0.937067  0.435823  \n",
            "9  0.339253 -1.401944 -1.285814  \n",
            "\n",
            "The first two rows of the DataFrame df are:\n",
            "           0         1         2         3         4         5         6  \\\n",
            "0 -1.470101  0.016500 -0.144187  0.359843  0.256593  1.382140 -0.211486   \n",
            "1 -1.458659 -0.162365  1.418203 -0.764819 -0.739308 -1.509836  0.729763   \n",
            "\n",
            "          7         8         9  \n",
            "0  0.124245 -0.555773 -0.553414  \n",
            "1 -2.014539  0.864658 -0.400014  \n",
            "\n",
            "The last two rows of the DataFrame df are:\n",
            "           0         1         2         3         4         5         6  \\\n",
            "8  0.476796  0.022654  0.082981 -0.688734 -0.960093  1.145689 -1.540674   \n",
            "9  0.857003 -2.163584  0.256594  1.968011 -0.530255  1.478781 -0.535728   \n",
            "\n",
            "          7         8         9  \n",
            "8  1.222625  0.937067  0.435823  \n",
            "9  0.339253 -1.401944 -1.285814  \n"
          ]
        }
      ],
      "source": [
        "s = pd.Series([1, 2, 4, 9, 16, 25])\n",
        "df = pd.DataFrame(np.random.randn(10, 10))\n",
        "\n",
        "print(\"The Series s is:\\n\", s)\n",
        "\n",
        "print(\"\\nThe DataFrame df is:\\n\",df)\n",
        "\n",
        "print(\"\\nThe first two rows of the DataFrame df are:\\n\", df.head(2))\n",
        "\n",
        "print(\"\\nThe last two rows of the DataFrame df are:\\n\",df.tail(2))\n"
      ]
    },
    {
      "cell_type": "markdown",
      "metadata": {
        "id": "6SJi1Jp0oJXh"
      },
      "source": [
        "### Question 5\n",
        "Print a series that contains all odd integers upto 10."
      ]
    },
    {
      "cell_type": "code",
      "execution_count": 38,
      "metadata": {
        "id": "aV82nSwH9q51",
        "colab": {
          "base_uri": "https://localhost:8080/"
        },
        "outputId": "deecc3a0-521c-49d7-d163-98fcb66a7c78"
      },
      "outputs": [
        {
          "output_type": "stream",
          "name": "stdout",
          "text": [
            "The Series s is:\n",
            " 0    1\n",
            "1    3\n",
            "2    5\n",
            "3    7\n",
            "4    9\n",
            "dtype: int64\n"
          ]
        }
      ],
      "source": [
        "s = pd.Series([1, 3, 5, 7, 9])\n",
        "print(\"The Series s is:\\n\", s)"
      ]
    },
    {
      "cell_type": "markdown",
      "metadata": {
        "id": "w4jp5d6Q2AJr"
      },
      "source": [
        "The indices are also shown when we plot a Pandas Series or DataFrame. They are the integer values on the left-most column and also at the top of the DataFrame. Optionally, we can use our own labels to identify rows (`index` argument) and columns (`columns` argument):"
      ]
    },
    {
      "cell_type": "code",
      "execution_count": null,
      "metadata": {
        "id": "J-XcKCyN2Gc9",
        "outputId": "6d9a73a6-0455-426a-f972-949157b14409"
      },
      "outputs": [
        {
          "name": "stdout",
          "output_type": "stream",
          "text": [
            "The DataFrame df is:\n",
            "     c1  c2  c3  c4\n",
            "r1  41  22  31  74\n",
            "r2  97  83  32  97\n",
            "r3   9  20  17  60\n",
            "r4  95  50  19  13\n",
            "\n",
            "The row labels are: Index(['r1', 'r2', 'r3', 'r4'], dtype='object')\n",
            "\n",
            "The columns labels are: Index(['c1', 'c2', 'c3', 'c4'], dtype='object')\n"
          ]
        }
      ],
      "source": [
        "df = pd.DataFrame(np.random.randint(1,100,[4, 4]), index=[\"r1\", \"r2\", \"r3\", \"r4\"], columns=[\"c1\", \"c2\", \"c3\", \"c4\"])\n",
        "print(\"The DataFrame df is:\\n\", df)\n",
        "\n",
        "print(\"\\nThe row labels are:\", df.index)\n",
        "print(\"\\nThe columns labels are:\",df.columns)"
      ]
    },
    {
      "cell_type": "markdown",
      "metadata": {
        "id": "LFZK5wf4ts8B"
      },
      "source": [
        "### Question 6\n",
        "You are given the given the task of producing 7 number lines, each with 6 individual numbers for a lottery draw. Use what you have learned about Pandas dataframes to build a dataframe with rows named like r1, r2,r3,...,r7 and columns named like 1st, 2nd, 3rd,...,6th that can be used to hold these lottery number lines.\n"
      ]
    },
    {
      "cell_type": "markdown",
      "source": [],
      "metadata": {
        "id": "wPVxFVSsiSlK"
      }
    },
    {
      "cell_type": "markdown",
      "source": [],
      "metadata": {
        "id": "C8h_VIJuiS7y"
      }
    },
    {
      "cell_type": "code",
      "execution_count": 40,
      "metadata": {
        "id": "V9AcjnUm93eY",
        "colab": {
          "base_uri": "https://localhost:8080/"
        },
        "outputId": "b8c8cbfd-3d6f-4986-a94d-c07e5204f10b"
      },
      "outputs": [
        {
          "output_type": "stream",
          "name": "stdout",
          "text": [
            "The DataFrame df is:\n",
            "     1st   2nd  3rd  4th  5th  6th  7th\n",
            "r1    87   72   44   11   81    4   68\n",
            "r2    28   84   16   28   81   48   21\n",
            "r3    68   57   75   51   82   43   96\n",
            "r4    48   61    8   20   96   95   81\n",
            "r5    88    2   90   19   72   15   86\n",
            "r6    75   93   80   96   94    5   30\n",
            "r7    68   78   36   41   17   82   40\n"
          ]
        }
      ],
      "source": [
        "df = pd.DataFrame(np.random.randint(1,100,[7, 7]), index=[\"r1\", \"r2\", \"r3\", \"r4\", \"r5\", \"r6\", \"r7\"], columns=[\"1st \", \"2nd\", \"3rd\", \"4th\", \"5th\", \"6th\", \"7th\"])\n",
        "print(\"The DataFrame df is:\\n\", df)"
      ]
    },
    {
      "cell_type": "markdown",
      "metadata": {
        "id": "XZ-E0w672o0L"
      },
      "source": [
        "Individual columns in a DataFrame can\n",
        "\n",
        "*   List item\n",
        "*   List item\n",
        "\n",
        "be extracted using the column labels:"
      ]
    },
    {
      "cell_type": "code",
      "execution_count": null,
      "metadata": {
        "id": "t8B5hVuM22ls",
        "outputId": "0ea559b6-6642-4b89-fe20-cf1498ecf031"
      },
      "outputs": [
        {
          "name": "stdout",
          "output_type": "stream",
          "text": [
            "The column c1 of the DataFrame df is \n",
            " r1    41\n",
            "r2    97\n",
            "r3     9\n",
            "r4    95\n",
            "Name: c1, dtype: int32\n",
            "\n",
            "The columns c2 and c4 of the DataFrame df are \n",
            "     c2  c4\n",
            "r1  22  74\n",
            "r2  83  97\n",
            "r3  20  60\n",
            "r4  50  13\n"
          ]
        }
      ],
      "source": [
        "df_c1 = df[\"c1\"]\n",
        "print(\"The column c1 of the DataFrame df is \\n\", df_c1)\n",
        "\n",
        "df_c2c4 = df[[\"c2\",\"c4\"]]\n",
        "print(\"\\nThe columns c2 and c4 of the DataFrame df are \\n\", df_c2c4)"
      ]
    },
    {
      "cell_type": "markdown",
      "metadata": {
        "id": "BzTBKIGQ0Q0u"
      },
      "source": [
        "### Question 7\n",
        "Now, there is a secondary lottery draw for a smaller price money that requires 7 number lines, each having only three individual numbers, such that they must match the odd drawn numbers (1st, 3rd, 5th, etc). Use the dataframe you created for Question 6 and what you have just learned about column extraction to obtain the values needed for the secondary lottery draw."
      ]
    },
    {
      "cell_type": "code",
      "execution_count": null,
      "metadata": {
        "id": "VUHnFkux-PRs"
      },
      "outputs": [],
      "source": [
        "df = pd.DataFrame(np.random.randint(1,100,[7, 7]), index=[\"r1\", \"r2\", \"r3\", \"r4\", \"r5\", \"r6\", \"r7\"], columns=[\"1st \", \"2nd\", \"3rd\", \"4th\", \"5th\", \"6th\", \"7th\"])\n",
        "print(\"The DataFrame df is:\\n\", df)\n"
      ]
    },
    {
      "cell_type": "markdown",
      "metadata": {
        "id": "odnedQ0q2_81"
      },
      "source": [
        "Rows can be extracted with `loc` and `iloc`. `loc` uses the row label, whereas `iloc` uses the row integer index:"
      ]
    },
    {
      "cell_type": "code",
      "execution_count": null,
      "metadata": {
        "id": "IoFFRJ6x3Hmc",
        "outputId": "8fd3e467-dd62-4548-f9a0-31ec17983641"
      },
      "outputs": [
        {
          "name": "stdout",
          "output_type": "stream",
          "text": [
            "The rows r1 and r3 of the DataFrame df are \n",
            "     c1  c2  c3  c4\n",
            "r1  41  22  31  74\n",
            "r3   9  20  17  60\n",
            "\n",
            "The first and third rows of the DataFrame df are \n",
            "     c1  c2  c3  c4\n",
            "r1  41  22  31  74\n",
            "r3   9  20  17  60\n"
          ]
        }
      ],
      "source": [
        "df_r1r2 = df.loc[[\"r1\",\"r3\"]]\n",
        "print(\"The rows r1 and r3 of the DataFrame df are \\n\", df_r1r2)\n",
        "\n",
        "df_02 = df.iloc[[0,2]]\n",
        "print(\"\\nThe first and third rows of the DataFrame df are \\n\", df_02)\n"
      ]
    },
    {
      "cell_type": "markdown",
      "metadata": {
        "id": "MEPAnMEm4Zmf"
      },
      "source": [
        "Finally, `iat` allows us to operate on individual entries:"
      ]
    },
    {
      "cell_type": "markdown",
      "metadata": {
        "id": "sNwEx_1STTL4"
      },
      "source": [
        "### Question 8\n",
        "You have been asked to display the 3rd number line from the dataframe you created for Question 7, use what you have just learned about dataframe row extraction to complete this task."
      ]
    },
    {
      "cell_type": "code",
      "execution_count": null,
      "metadata": {
        "id": "P9HYKreWTTL4"
      },
      "outputs": [],
      "source": []
    },
    {
      "cell_type": "markdown",
      "metadata": {
        "id": "6JvahOFFfKC9"
      },
      "source": [
        "You will need to use CSV file LondonCars2014.csv for the demonstration on the following cell. The code cell below shows how to load the above CSV file into a dataframe and displays some basic information about it (remember that you need to upload the CSV file first!)."
      ]
    },
    {
      "cell_type": "code",
      "execution_count": null,
      "metadata": {
        "id": "da87jK0HfrRZ",
        "outputId": "37ee00d4-46ef-4ec1-b4e3-761aa262ba08"
      },
      "outputs": [
        {
          "name": "stdout",
          "output_type": "stream",
          "text": [
            "<class 'pandas.core.frame.DataFrame'>\n",
            "RangeIndex: 9080 entries, 0 to 9079\n",
            "Data columns (total 11 columns):\n",
            " #   Column        Non-Null Count  Dtype \n",
            "---  ------        --------------  ----- \n",
            " 0   Make          9080 non-null   object\n",
            " 1   Model         9080 non-null   object\n",
            " 2   Year          9080 non-null   int64 \n",
            " 3   Mileage       9080 non-null   int64 \n",
            " 4   Price         9080 non-null   int64 \n",
            " 5   Body Style    9080 non-null   object\n",
            " 6   Ex Color      9080 non-null   object\n",
            " 7   In Color      9080 non-null   object\n",
            " 8   Engine        9080 non-null   object\n",
            " 9   Transmission  9080 non-null   object\n",
            " 10  Doors         9080 non-null   int64 \n",
            "dtypes: int64(4), object(7)\n",
            "memory usage: 780.4+ KB\n"
          ]
        }
      ],
      "source": [
        "df_cars = pd.read_csv('./Data/LondonCars2014.csv')\n",
        "df_cars.info()"
      ]
    },
    {
      "cell_type": "code",
      "execution_count": null,
      "metadata": {
        "id": "31b6q3twgMdU",
        "outputId": "fa49485c-646a-4344-f7dc-3db4c2999885"
      },
      "outputs": [
        {
          "name": "stdout",
          "output_type": "stream",
          "text": [
            "               Make                           Model  Year  Mileage  Price  \\\n",
            "0            Toyota                      Avalon XLE  2014     4725  28995   \n",
            "1              Ford                       Escape SE  2014    17201  24994   \n",
            "2           Hyundai                  Santa Fe Sport  2014     6279  25998   \n",
            "3              Ford                       Escape SE  2014    16262  26684   \n",
            "4              Jeep  Grand Cherokee Limited Edition  2014    35572  33440   \n",
            "...             ...                             ...   ...      ...    ...   \n",
            "9075      Chevrolet                       Malibu LT  2010    40340  12998   \n",
            "9076           Ford                        Edge SEL  2009    43169  18495   \n",
            "9077          Dodge                     Avenger SXT  2012     6761  14944   \n",
            "9078  Mercedes-Benz                          ML 350  2011    38215  35900   \n",
            "9079         Nissan                       Altima SL  2010    44065  13499   \n",
            "\n",
            "     Body Style Ex Color In Color Engine Transmission  Doors  \n",
            "0         Sedan     Gray    Black  6 Cyl    Automatic      4  \n",
            "1           SUV   Silver    Black  4 Cyl    Automatic      4  \n",
            "2           SUV   Silver     Gray  4 Cyl    Automatic      4  \n",
            "3           SUV    Black    Black  4 Cyl    Automatic      4  \n",
            "4           SUV    Black    Black  6 Cyl    Automatic      4  \n",
            "...         ...      ...      ...    ...          ...    ...  \n",
            "9075      Sedan   Silver    Black  4 Cyl    Automatic      4  \n",
            "9076        SUV     Blue     Gray  6 Cyl    Automatic      4  \n",
            "9077      Sedan   Silver    Black  4 Cyl    Automatic      4  \n",
            "9078        SUV   Silver    Black  6 Cyl    Automatic      4  \n",
            "9079      Sedan     Gray    Black  4 Cyl    Automatic      4  \n",
            "\n",
            "[9080 rows x 11 columns]\n"
          ]
        }
      ],
      "source": [
        "print (df_cars)"
      ]
    },
    {
      "cell_type": "markdown",
      "metadata": {
        "id": "SRJjRdWl2uqq"
      },
      "source": [
        "### Question 9\n",
        "Use the dataframe `df_cars` to find:\n",
        "<br>\n",
        "a) Average price of all cars in the dataset\n",
        "<br>\n",
        "b) Minimum number of doors of the cars in the dataset {<b>Hint:</b> you can use numpy min()}\n",
        "<br>\n",
        "c) Highest Mileage of a car in the data set {<b>Hint:</b> you can use numpy max()}\n",
        "<br>\n",
        "d) Model of the car that has the highest Mileage <b>(hard)</b>\n",
        "<br>\n",
        "{Hint: You will need to compare each row's Mileage column from df_cars with that of the maxMileage you just found to print the Model column.}\n"
      ]
    },
    {
      "cell_type": "code",
      "execution_count": null,
      "metadata": {
        "id": "XXZvbfHg-sNx"
      },
      "outputs": [],
      "source": []
    }
  ],
  "metadata": {
    "colab": {
      "provenance": [],
      "include_colab_link": true
    },
    "kernelspec": {
      "display_name": "Python 3 (ipykernel)",
      "language": "python",
      "name": "python3"
    },
    "language_info": {
      "codemirror_mode": {
        "name": "ipython",
        "version": 3
      },
      "file_extension": ".py",
      "mimetype": "text/x-python",
      "name": "python",
      "nbconvert_exporter": "python",
      "pygments_lexer": "ipython3",
      "version": "3.9.12"
    }
  },
  "nbformat": 4,
  "nbformat_minor": 0
}